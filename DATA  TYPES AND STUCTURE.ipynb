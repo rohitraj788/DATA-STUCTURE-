{
  "cells": [
    {
      "cell_type": "markdown",
      "source": [
        "1 What are data structures, and why are they important3"
      ],
      "metadata": {
        "id": "hV0qmbJHCFXd"
      }
    },
    {
      "cell_type": "markdown",
      "source": [
        "Data structures are ways to organize and store data in a computer so it can be accessed and modified efficiently. They're important because they help manage large amounts of data and enable efficient algorithms.\n",
        "\n"
      ],
      "metadata": {
        "id": "gwAayaJZxzfS"
      }
    },
    {
      "cell_type": "markdown",
      "source": [
        "2. Explain the difference between mutable and immutable data types with examples."
      ],
      "metadata": {
        "id": "iFx7D2Wux14h"
      }
    },
    {
      "cell_type": "markdown",
      "source": [
        "Mutable: Can be changed after creation (e.g., list, dict, set)\n",
        "Example:"
      ],
      "metadata": {
        "id": "GJRiHWcwx755"
      }
    },
    {
      "cell_type": "markdown",
      "source": [
        "Immutable: Cannot be changed after creation (e.g., int, str, tuple)\n",
        "Example:"
      ],
      "metadata": {
        "id": "dNdPO53tyLOW"
      }
    },
    {
      "cell_type": "markdown",
      "source": [
        "3. What are the main differences between lists and tuples in Python?"
      ],
      "metadata": {
        "id": "LGwvm2FWzPYT"
      }
    },
    {
      "cell_type": "markdown",
      "source": [
        "- List is mutable, dynamic, and slower due to flexibility.\n",
        "\n",
        "- Tuple is immutable, fixed, and faster because it's read-only.\n",
        "\n",
        "Use lists when data may change, and tuples when data must remain constant."
      ],
      "metadata": {
        "id": "oU7yM_SjzRlk"
      }
    },
    {
      "cell_type": "markdown",
      "source": [
        "4. Describe how dictionaries store data."
      ],
      "metadata": {
        "id": "2uFuaiRoy5s_"
      }
    },
    {
      "cell_type": "markdown",
      "source": [
        "Dictionaries store data as key-value pairs using a hash table internally. Keys must be unique and hashable, and values can be of any type."
      ],
      "metadata": {
        "id": "31Ls48u6y7B-"
      }
    },
    {
      "cell_type": "markdown",
      "source": [
        "5. Why might you use a set instead of a list in Python?"
      ],
      "metadata": {
        "id": "J7bP90BizTL-"
      }
    },
    {
      "cell_type": "markdown",
      "source": [
        "- Sets automatically remove duplicate values\n",
        "\n",
        "- Faster membership testing (in)\n",
        "\n",
        "- useful for mathematical operations like union, intersection"
      ],
      "metadata": {
        "id": "qsFnXSJ6zX4c"
      }
    },
    {
      "cell_type": "markdown",
      "source": [
        "6. What is a string in Python, and how is it different from a list?"
      ],
      "metadata": {
        "id": "eMcTIigUzfxs"
      }
    },
    {
      "cell_type": "markdown",
      "source": [
        "A string is a sequence of characters and is immutable. A list is a sequence of elements that can be changed."
      ],
      "metadata": {
        "id": "9rafXLQ7zipE"
      }
    },
    {
      "cell_type": "code",
      "source": [
        "s = \"hello\"\n",
        "l = ['h', 'e']\n"
      ],
      "metadata": {
        "id": "42vH3agEzsl8"
      },
      "execution_count": 7,
      "outputs": []
    },
    {
      "cell_type": "markdown",
      "source": [
        "7. How do tuples ensure data integrity in Python?"
      ],
      "metadata": {
        "id": "YEq8Dfkrzwr4"
      }
    },
    {
      "cell_type": "markdown",
      "source": [
        "Tuples are immutable, which means their contents can't be changed after creation. This protects data from accidental modification."
      ],
      "metadata": {
        "id": "Or3ss4URzzMC"
      }
    },
    {
      "cell_type": "markdown",
      "source": [
        "8. What is a hash table, and how does it relate to dictionaries in Python?"
      ],
      "metadata": {
        "id": "HuL53_64z105"
      }
    },
    {
      "cell_type": "markdown",
      "source": [
        "A hash table is a data structure that maps keys to values using a hash function. Python dictionaries are implemented using hash tables."
      ],
      "metadata": {
        "id": "aX93I_dkz5c5"
      }
    },
    {
      "cell_type": "markdown",
      "source": [
        "9. Can lists contain different data types in Python?"
      ],
      "metadata": {
        "id": "H0iINNrrz77P"
      }
    },
    {
      "cell_type": "markdown",
      "source": [
        "Yes. A list can contain mixed data types:"
      ],
      "metadata": {
        "id": "SJj_z1vaz8qD"
      }
    },
    {
      "cell_type": "markdown",
      "source": [
        "10. Explain why strings are immutable in Python."
      ],
      "metadata": {
        "id": "U1pTErw30ClQ"
      }
    },
    {
      "cell_type": "markdown",
      "source": [
        "Strings are immutable for:\n",
        "\n",
        "- Performance reasons\n",
        "\n",
        "- Thread safety\n",
        "\n",
        "- Reusability (interning)\n",
        "\n",
        "Once created, their content cannot be changed.\n",
        "\n"
      ],
      "metadata": {
        "id": "Rc8MxKyc0Xbl"
      }
    },
    {
      "cell_type": "markdown",
      "source": [
        "11. What advantages do dictionaries offer over lists for certain tasks?"
      ],
      "metadata": {
        "id": "rw9886bM0gRP"
      }
    },
    {
      "cell_type": "markdown",
      "source": [
        "- Faster lookups by key (O(1) vs O(n))\n",
        "\n",
        "- More structured data storage\n",
        "\n",
        "- Better for mapping relationships"
      ],
      "metadata": {
        "id": "IHGxs9Hk0i_m"
      }
    },
    {
      "cell_type": "markdown",
      "source": [
        "12. Describe a scenario where using a tuple would be preferable over a list."
      ],
      "metadata": {
        "id": "jHm8svkO0oZN"
      }
    },
    {
      "cell_type": "markdown",
      "source": [],
      "metadata": {
        "id": "FK3wDbBy1mVm"
      }
    },
    {
      "cell_type": "markdown",
      "source": [
        "- If you need to store fixed data like coordinates or database records that shouldn’t change, use a tuple.\n",
        "\n",
        "Example:"
      ],
      "metadata": {
        "id": "Td0K91t01PSa"
      }
    },
    {
      "cell_type": "code",
      "source": [
        "coordinates = (28.7041, 77.1025)\n"
      ],
      "metadata": {
        "id": "zBPV9AGP1S-s"
      },
      "execution_count": 8,
      "outputs": []
    },
    {
      "cell_type": "markdown",
      "source": [
        "13. How do sets handle duplicate values in Python?"
      ],
      "metadata": {
        "id": "9ZjeieFL1c5Y"
      }
    },
    {
      "cell_type": "markdown",
      "source": [
        "- Sets automatically eliminate duplicates.\n",
        "\n",
        "Example:"
      ],
      "metadata": {
        "id": "uyG7Yzn61e_N"
      }
    },
    {
      "cell_type": "code",
      "source": [
        "s = {1, 2, 2, 3}\n",
        "print(s)\n"
      ],
      "metadata": {
        "colab": {
          "base_uri": "https://localhost:8080/"
        },
        "id": "32rKt_J21qtU",
        "outputId": "a7331002-a924-4eb2-8b59-0971609a3ab8"
      },
      "execution_count": 10,
      "outputs": [
        {
          "output_type": "stream",
          "name": "stdout",
          "text": [
            "{1, 2, 3}\n"
          ]
        }
      ]
    },
    {
      "cell_type": "markdown",
      "source": [
        "14. How does the “in” keyword work differently for lists and dictionaries?"
      ],
      "metadata": {
        "id": "l3Q30kEQ15aa"
      }
    },
    {
      "cell_type": "markdown",
      "source": [
        "- In a list, it checks if a value is present.\n",
        "\n",
        "- In a dictionary, it checks if a key exists."
      ],
      "metadata": {
        "id": "d51-gDDd16QP"
      }
    },
    {
      "cell_type": "code",
      "source": [
        "3 in [1, 2, 3]\n",
        "'name' in {'name': 'Raj'}\n"
      ],
      "metadata": {
        "colab": {
          "base_uri": "https://localhost:8080/"
        },
        "id": "LunROtp12ANG",
        "outputId": "341aaa34-2dc4-4b00-bf05-21fffcd923fb"
      },
      "execution_count": 11,
      "outputs": [
        {
          "output_type": "execute_result",
          "data": {
            "text/plain": [
              "True"
            ]
          },
          "metadata": {},
          "execution_count": 11
        }
      ]
    },
    {
      "cell_type": "markdown",
      "source": [
        "15. Can you modify the elements of a tuple? Explain why or why not."
      ],
      "metadata": {
        "id": "TL3DdGOF2G04"
      }
    },
    {
      "cell_type": "markdown",
      "source": [
        "- No. Tuples are immutable, so once created, their content cannot be changed. This ensures data consistency."
      ],
      "metadata": {
        "id": "A13y4L4v2IGo"
      }
    },
    {
      "cell_type": "markdown",
      "source": [
        "16. What is a nested dictionary, and give an example of its use case."
      ],
      "metadata": {
        "id": "Ax7w-ZdD2Mxe"
      }
    },
    {
      "cell_type": "markdown",
      "source": [
        "- A nested dictionary is a dictionary where values are also dictionaries.\n",
        "Use case: Managing hierarchical or complex data.\n",
        "\n",
        " Example:"
      ],
      "metadata": {
        "id": "YpT6XmyO2PCu"
      }
    },
    {
      "cell_type": "code",
      "source": [
        "students = {\n",
        "  \"001\": {\"name\": \"Anu\", \"age\": 21},\n",
        "  \"002\": {\"name\": \"Rahul\", \"age\": 22}}\n"
      ],
      "metadata": {
        "id": "RtNb0AyJ2WTa"
      },
      "execution_count": 15,
      "outputs": []
    },
    {
      "cell_type": "markdown",
      "source": [
        "17. Describe the time complexity of accessing elements in a dictionary."
      ],
      "metadata": {
        "id": "T09BnTCV2gdc"
      }
    },
    {
      "cell_type": "markdown",
      "source": [
        "- Average case: O(1), due to hashing\n",
        "\n",
        "- Worst case: O(n), if there are many hash collisions (rare)"
      ],
      "metadata": {
        "id": "xuDxs5PY2lFU"
      }
    },
    {
      "cell_type": "markdown",
      "source": [
        "18. In what situations are lists preferred over dictionaries?"
      ],
      "metadata": {
        "id": "07Gj1tlv2qyf"
      }
    },
    {
      "cell_type": "markdown",
      "source": [
        "- Use lists when:\n",
        "\n",
        "You need to maintain order\n",
        "\n",
        "You're storing simple sequences\n",
        "\n",
        "You rely on index-based access or slicin"
      ],
      "metadata": {
        "id": "NsIcJzrQ2rcG"
      }
    },
    {
      "cell_type": "markdown",
      "source": [
        "19. Why are dictionaries considered unordered, and how does that affect data retrieval?"
      ],
      "metadata": {
        "id": "21siWl9I2woJ"
      }
    },
    {
      "cell_type": "markdown",
      "source": [
        "Until Python 3.7, dictionaries didn't preserve insertion order. Even now, they’re meant for key-based access, not for sequential order like lists.\n",
        "You cannot retrieve items by position like dict[0]."
      ],
      "metadata": {
        "id": "zEe1z--w2xfp"
      }
    },
    {
      "cell_type": "markdown",
      "source": [
        "20. Explain the difference between a list and a dictionary in terms of data retrieval."
      ],
      "metadata": {
        "id": "caw8A-9-21Rq"
      }
    },
    {
      "cell_type": "markdown",
      "source": [
        "- List: Access elements by index (e.g., list[0])\n",
        "\n",
        "Dictionary: Access elements by key (e.g., dict['name'])\n",
        "Dictionaries are faster for lookups by key and more expressive when data is labeled."
      ],
      "metadata": {
        "id": "XD91h5Ny22X-"
      }
    },
    {
      "cell_type": "markdown",
      "source": [
        "Practical Questions\n"
      ],
      "metadata": {
        "id": "mC69LZpg3GPq"
      }
    },
    {
      "cell_type": "markdown",
      "source": [
        "1. Write a code to create a string with your name and print it"
      ],
      "metadata": {
        "id": "nYnlktHR3R6B"
      }
    },
    {
      "cell_type": "code",
      "source": [
        "name = \"Rohitraj\"\n",
        "print(name)\n"
      ],
      "metadata": {
        "colab": {
          "base_uri": "https://localhost:8080/"
        },
        "id": "m6wDUEIr7-Em",
        "outputId": "12b8549e-0ff5-4c7c-f9c8-974f927339d9"
      },
      "execution_count": 16,
      "outputs": [
        {
          "output_type": "stream",
          "name": "stdout",
          "text": [
            "Rohitraj\n"
          ]
        }
      ]
    },
    {
      "cell_type": "markdown",
      "source": [
        "2. Write a code to find the length of the string \"Hello World"
      ],
      "metadata": {
        "id": "84oUbqfQ4JP6"
      }
    },
    {
      "cell_type": "code",
      "source": [
        "s = \"Hello World\"\n",
        "print(len(s))\n"
      ],
      "metadata": {
        "colab": {
          "base_uri": "https://localhost:8080/"
        },
        "id": "ySCJOLUB7_nj",
        "outputId": "c6e3b055-8412-4a3b-d1a0-b67cd4372703"
      },
      "execution_count": 17,
      "outputs": [
        {
          "output_type": "stream",
          "name": "stdout",
          "text": [
            "11\n"
          ]
        }
      ]
    },
    {
      "cell_type": "markdown",
      "source": [
        "3. Write a code to slice the first 3 characters from the string \"Python Programming"
      ],
      "metadata": {
        "id": "vt8FhWPR4L85"
      }
    },
    {
      "cell_type": "code",
      "source": [
        "text = \"Python Programming\"\n",
        "print(text[:3])\n"
      ],
      "metadata": {
        "colab": {
          "base_uri": "https://localhost:8080/"
        },
        "id": "yZioYgeV8B6U",
        "outputId": "56778bab-09f2-4a83-aaf8-000a1a14bd47"
      },
      "execution_count": 18,
      "outputs": [
        {
          "output_type": "stream",
          "name": "stdout",
          "text": [
            "Pyt\n"
          ]
        }
      ]
    },
    {
      "cell_type": "markdown",
      "source": [
        "4. Write a code to convert the string \"hello\" to uppercase"
      ],
      "metadata": {
        "id": "gTqAAU7M4SPX"
      }
    },
    {
      "cell_type": "code",
      "source": [
        "s = \"I like apple\"\n",
        "s = s.replace(\"apple\", \"orange\")\n",
        "print(s)\n"
      ],
      "metadata": {
        "colab": {
          "base_uri": "https://localhost:8080/"
        },
        "id": "Bn7uV5Vb8Fq0",
        "outputId": "84f92571-7cbc-4d53-825f-9b931537b12a"
      },
      "execution_count": 19,
      "outputs": [
        {
          "output_type": "stream",
          "name": "stdout",
          "text": [
            "I like orange\n"
          ]
        }
      ]
    },
    {
      "cell_type": "markdown",
      "source": [
        "5. Write a code to replace the word \"apple\" with \"orange\" in the string \"I like apple"
      ],
      "metadata": {
        "id": "kupOlmBg4TFF"
      }
    },
    {
      "cell_type": "code",
      "source": [
        "lst = [1, 2, 3, 4, 5]\n",
        "print(lst)\n"
      ],
      "metadata": {
        "colab": {
          "base_uri": "https://localhost:8080/"
        },
        "id": "jO_NHkI08H6X",
        "outputId": "0d6587e0-a776-4b44-84ce-567d080a4d5b"
      },
      "execution_count": 20,
      "outputs": [
        {
          "output_type": "stream",
          "name": "stdout",
          "text": [
            "[1, 2, 3, 4, 5]\n"
          ]
        }
      ]
    },
    {
      "cell_type": "markdown",
      "source": [
        "6. Write a code to create a list with numbers 1 to 5 and print it"
      ],
      "metadata": {
        "id": "5ib8f9mz4V52"
      }
    },
    {
      "cell_type": "code",
      "source": [
        "lst = [1, 2, 3, 4, 5]\n",
        "print(lst)\n"
      ],
      "metadata": {
        "colab": {
          "base_uri": "https://localhost:8080/"
        },
        "id": "G-kwStkA8JWO",
        "outputId": "8857faa0-186b-49d4-8661-16b4f5c6902b"
      },
      "execution_count": 21,
      "outputs": [
        {
          "output_type": "stream",
          "name": "stdout",
          "text": [
            "[1, 2, 3, 4, 5]\n"
          ]
        }
      ]
    },
    {
      "cell_type": "markdown",
      "source": [
        "7. Write a code to append the number 10 to the list [1, 2, 3,4]"
      ],
      "metadata": {
        "id": "macN6BRh4jbX"
      }
    },
    {
      "cell_type": "code",
      "source": [
        "lst = [1, 2, 3, 4]\n",
        "lst.append(10)\n",
        "print(lst)\n"
      ],
      "metadata": {
        "colab": {
          "base_uri": "https://localhost:8080/"
        },
        "id": "gGgYVQ_v8KBP",
        "outputId": "5d2b5ffd-e822-4e51-dfb2-6c05de376645"
      },
      "execution_count": 22,
      "outputs": [
        {
          "output_type": "stream",
          "name": "stdout",
          "text": [
            "[1, 2, 3, 4, 10]\n"
          ]
        }
      ]
    },
    {
      "cell_type": "markdown",
      "source": [
        "8. Write a code to remove the number 3 from the list [1, 2, 3, 4, 5]\n"
      ],
      "metadata": {
        "id": "yc1ua7fF47pR"
      }
    },
    {
      "cell_type": "code",
      "source": [
        "lst = [1, 2, 3, 4, 5]\n",
        "lst.remove(3)\n",
        "print(lst)\n"
      ],
      "metadata": {
        "colab": {
          "base_uri": "https://localhost:8080/"
        },
        "id": "2eAR_pGE8Knt",
        "outputId": "88a57fcc-bc4f-4e16-c109-6a4b6bf44d64"
      },
      "execution_count": 23,
      "outputs": [
        {
          "output_type": "stream",
          "name": "stdout",
          "text": [
            "[1, 2, 4, 5]\n"
          ]
        }
      ]
    },
    {
      "cell_type": "markdown",
      "source": [
        "9. Write a code to access the second element in the list ['a', 'b', 'c', 'd']"
      ],
      "metadata": {
        "id": "xoBrKmpj4_tG"
      }
    },
    {
      "cell_type": "code",
      "source": [
        "lst = ['a', 'b', 'c', 'd']\n",
        "print(lst[1])\n"
      ],
      "metadata": {
        "colab": {
          "base_uri": "https://localhost:8080/"
        },
        "id": "6x6N0cym8LgZ",
        "outputId": "f3c1097d-bcd8-4e7f-d90b-6b13800a0ba3"
      },
      "execution_count": 24,
      "outputs": [
        {
          "output_type": "stream",
          "name": "stdout",
          "text": [
            "b\n"
          ]
        }
      ]
    },
    {
      "cell_type": "markdown",
      "source": [
        "10 Write a code to reverse the list [10, 20, 30, 40, 50]"
      ],
      "metadata": {
        "id": "8ysYEB3S5D2M"
      }
    },
    {
      "cell_type": "code",
      "source": [
        "lst = [10, 20, 30, 40, 50]\n",
        "lst.reverse()\n",
        "print(lst)\n"
      ],
      "metadata": {
        "colab": {
          "base_uri": "https://localhost:8080/"
        },
        "id": "1Bi135sE8McM",
        "outputId": "d4fc9de5-9446-4723-c15b-3fa63d16a736"
      },
      "execution_count": 25,
      "outputs": [
        {
          "output_type": "stream",
          "name": "stdout",
          "text": [
            "[50, 40, 30, 20, 10]\n"
          ]
        }
      ]
    },
    {
      "cell_type": "markdown",
      "source": [
        " 11.Write a code to create a tuple with the elements 100, 200, 300 and print it."
      ],
      "metadata": {
        "id": "rAfJa8Oy5Es-"
      }
    },
    {
      "cell_type": "code",
      "source": [
        "my_tuple = (100, 200, 300)\n",
        "print(my_tuple)\n"
      ],
      "metadata": {
        "colab": {
          "base_uri": "https://localhost:8080/"
        },
        "id": "uf4bzqJO8M6m",
        "outputId": "b86382a3-ccae-4c9e-f477-6b429b9b332d"
      },
      "execution_count": 26,
      "outputs": [
        {
          "output_type": "stream",
          "name": "stdout",
          "text": [
            "(100, 200, 300)\n"
          ]
        }
      ]
    },
    {
      "cell_type": "markdown",
      "source": [
        "12. Write a code to access the second-to-last element of the tuple ('red', 'green', 'blue', 'yellow')."
      ],
      "metadata": {
        "id": "mqaBnKFG5HOf"
      }
    },
    {
      "cell_type": "code",
      "source": [
        "colors = ('red', 'green', 'blue', 'yellow')\n",
        "print(colors[-2])  # Output: blue\n"
      ],
      "metadata": {
        "colab": {
          "base_uri": "https://localhost:8080/"
        },
        "id": "0aEO40DQ8Nab",
        "outputId": "7a554a85-1481-4a31-a88b-dbe4a76caf8e"
      },
      "execution_count": 27,
      "outputs": [
        {
          "output_type": "stream",
          "name": "stdout",
          "text": [
            "blue\n"
          ]
        }
      ]
    },
    {
      "cell_type": "markdown",
      "source": [
        "13. Write a code to find the minimum number in the tuple (10, 20, 5, 15)."
      ],
      "metadata": {
        "id": "6KD_lhZp5VzF"
      }
    },
    {
      "cell_type": "code",
      "source": [
        "numbers = (10, 20, 5, 15)\n",
        "print(min(numbers))\n"
      ],
      "metadata": {
        "colab": {
          "base_uri": "https://localhost:8080/"
        },
        "id": "QkIrd3oI8N3o",
        "outputId": "419f64ca-644c-484f-a97c-a3164e50bdf4"
      },
      "execution_count": 28,
      "outputs": [
        {
          "output_type": "stream",
          "name": "stdout",
          "text": [
            "5\n"
          ]
        }
      ]
    },
    {
      "cell_type": "markdown",
      "source": [
        "14. Write a code to find the index of the element \"cat\" in the tuple ('dog', 'cat', 'rabbit')."
      ],
      "metadata": {
        "id": "9_dR7M8s5fCi"
      }
    },
    {
      "cell_type": "code",
      "source": [
        "animals = ('dog', 'cat', 'rabbit')\n",
        "print(animals.index('cat'))\n"
      ],
      "metadata": {
        "colab": {
          "base_uri": "https://localhost:8080/"
        },
        "id": "klUsw6Rg8Ofs",
        "outputId": "e9247ba5-bb53-4be1-ab1c-0889eec32b3a"
      },
      "execution_count": 29,
      "outputs": [
        {
          "output_type": "stream",
          "name": "stdout",
          "text": [
            "1\n"
          ]
        }
      ]
    },
    {
      "cell_type": "markdown",
      "source": [
        "15. Write a code to create a tuple containing three different fruits and check if \"kiwi\" is in it."
      ],
      "metadata": {
        "id": "wBVMEwrw5pan"
      }
    },
    {
      "cell_type": "code",
      "source": [
        "fruits = ('apple', 'banana', 'cherry')\n",
        "print('kiwi' in fruits)\n"
      ],
      "metadata": {
        "colab": {
          "base_uri": "https://localhost:8080/"
        },
        "id": "JB34L2Cz8PKJ",
        "outputId": "66a0f5a1-5452-42a3-bc17-d7812715155f"
      },
      "execution_count": 30,
      "outputs": [
        {
          "output_type": "stream",
          "name": "stdout",
          "text": [
            "False\n"
          ]
        }
      ]
    },
    {
      "cell_type": "markdown",
      "source": [
        "16. Write a code to create a set with the elements 'a', 'b', 'c' and print it."
      ],
      "metadata": {
        "id": "jvuHzz8j5_e6"
      }
    },
    {
      "cell_type": "code",
      "source": [
        "my_set = {'a', 'b', 'c'}\n",
        "print(my_set)\n"
      ],
      "metadata": {
        "colab": {
          "base_uri": "https://localhost:8080/"
        },
        "id": "LhMy9vpx8P3X",
        "outputId": "0b4cccc5-1ef9-450b-bf0e-68d969e2f675"
      },
      "execution_count": 31,
      "outputs": [
        {
          "output_type": "stream",
          "name": "stdout",
          "text": [
            "{'a', 'c', 'b'}\n"
          ]
        }
      ]
    },
    {
      "cell_type": "markdown",
      "source": [
        "17. Write a code to clear all elements from the set {1, 2, 3, 4, 5}."
      ],
      "metadata": {
        "id": "SE-sdJjM6Ca2"
      }
    },
    {
      "cell_type": "code",
      "source": [
        "my_set = {1, 2, 3, 4, 5}\n",
        "my_set.clear()\n",
        "print(my_set)\n"
      ],
      "metadata": {
        "colab": {
          "base_uri": "https://localhost:8080/"
        },
        "id": "xCKJ8U2u8QVt",
        "outputId": "50bae2ca-7f98-4fe3-9986-bcd125dc980a"
      },
      "execution_count": 32,
      "outputs": [
        {
          "output_type": "stream",
          "name": "stdout",
          "text": [
            "set()\n"
          ]
        }
      ]
    },
    {
      "cell_type": "markdown",
      "source": [
        "18. Write a code to remove the element 4 from the set {1, 2, 3, 4}"
      ],
      "metadata": {
        "id": "-sv6HFg26HHh"
      }
    },
    {
      "cell_type": "code",
      "source": [
        "my_set = {1, 2, 3, 4}\n",
        "my_set.remove(4)\n",
        "print(my_set)\n"
      ],
      "metadata": {
        "colab": {
          "base_uri": "https://localhost:8080/"
        },
        "id": "a8oJ2oL08Q5O",
        "outputId": "d13bdaa9-55e1-4ecd-a6fb-505a35a018a5"
      },
      "execution_count": 33,
      "outputs": [
        {
          "output_type": "stream",
          "name": "stdout",
          "text": [
            "{1, 2, 3}\n"
          ]
        }
      ]
    },
    {
      "cell_type": "markdown",
      "source": [
        "19. Write a code to find the union of two sets {1, 2, 3} and {3, 4, 5}."
      ],
      "metadata": {
        "id": "03BOj8356Lp9"
      }
    },
    {
      "cell_type": "code",
      "source": [
        "set1 = {1, 2, 3}\n",
        "set2 = {3, 4, 5}\n",
        "union_set = set1.union(set2)\n",
        "print(union_set)\n"
      ],
      "metadata": {
        "colab": {
          "base_uri": "https://localhost:8080/"
        },
        "id": "HaRgsyyj8Rt0",
        "outputId": "4dd61923-42ee-402f-ab5f-dd9a8fccab2f"
      },
      "execution_count": 34,
      "outputs": [
        {
          "output_type": "stream",
          "name": "stdout",
          "text": [
            "{1, 2, 3, 4, 5}\n"
          ]
        }
      ]
    },
    {
      "cell_type": "markdown",
      "source": [
        "20. Write a code to find the intersection of two sets {1, 2, 3} and {2, 3, 4}"
      ],
      "metadata": {
        "id": "188LnVE36May"
      }
    },
    {
      "cell_type": "code",
      "source": [
        "set1 = {1, 2, 3}\n",
        "set2 = {2, 3, 4}\n",
        "intersection_set = set1.intersection(set2)\n",
        "print(intersection_set)\n"
      ],
      "metadata": {
        "colab": {
          "base_uri": "https://localhost:8080/"
        },
        "id": "ZjrlqLJv8Sei",
        "outputId": "3a6a4e20-0a75-43d6-d10a-ed46ae3d80de"
      },
      "execution_count": 35,
      "outputs": [
        {
          "output_type": "stream",
          "name": "stdout",
          "text": [
            "{2, 3}\n"
          ]
        }
      ]
    },
    {
      "cell_type": "markdown",
      "source": [
        "21. Write a code to create a dictionary with the keys \"name\", \"age\", and \"city\", and print it"
      ],
      "metadata": {
        "id": "KaES3ThP6PJy"
      }
    },
    {
      "cell_type": "code",
      "source": [
        "person = {'name': 'Alice', 'age': 30, 'city': 'New York'}\n",
        "print(person)\n"
      ],
      "metadata": {
        "colab": {
          "base_uri": "https://localhost:8080/"
        },
        "id": "c2MaS3iK8ThM",
        "outputId": "36d972a1-1f3a-4279-bd40-2ab8ff128ea2"
      },
      "execution_count": 36,
      "outputs": [
        {
          "output_type": "stream",
          "name": "stdout",
          "text": [
            "{'name': 'Alice', 'age': 30, 'city': 'New York'}\n"
          ]
        }
      ]
    },
    {
      "cell_type": "markdown",
      "source": [
        "22. Write a code to add a new key-value pair \"country\": \"USA\" to the dictionary {'name': 'John', 'age': 25}"
      ],
      "metadata": {
        "id": "qbpbkQHe6STj"
      }
    },
    {
      "cell_type": "code",
      "source": [
        "person = {'name': 'John', 'age': 25}\n",
        "person['country'] = 'USA'\n",
        "print(person)\n"
      ],
      "metadata": {
        "colab": {
          "base_uri": "https://localhost:8080/"
        },
        "id": "hHqGnmrJ8VWm",
        "outputId": "6050f5d8-e06a-4818-9964-d2433ea14f5b"
      },
      "execution_count": 37,
      "outputs": [
        {
          "output_type": "stream",
          "name": "stdout",
          "text": [
            "{'name': 'John', 'age': 25, 'country': 'USA'}\n"
          ]
        }
      ]
    },
    {
      "cell_type": "markdown",
      "source": [
        "23. Write a code to access the value associated with the key \"name\" in the dictionary {'name': 'Alice', 'age': 30}."
      ],
      "metadata": {
        "id": "7J_9Z8Yf6V1b"
      }
    },
    {
      "cell_type": "code",
      "source": [
        "person = {'name': 'Alice', 'age': 30}\n",
        "print(person['name'])\n"
      ],
      "metadata": {
        "colab": {
          "base_uri": "https://localhost:8080/"
        },
        "id": "k8Rhhlis8U13",
        "outputId": "4c1f98f9-a0ba-4c8e-8b09-9fee850fd367"
      },
      "execution_count": 38,
      "outputs": [
        {
          "output_type": "stream",
          "name": "stdout",
          "text": [
            "Alice\n"
          ]
        }
      ]
    },
    {
      "cell_type": "markdown",
      "source": [
        "24. Write a code to remove the key \"age\" from the dictionary {'name': 'Bob', 'age': 22, 'city': 'New York'}."
      ],
      "metadata": {
        "id": "iESl0YrM6bMG"
      }
    },
    {
      "cell_type": "code",
      "source": [
        "person = {'name': 'Bob', 'age': 22, 'city': 'New York'}\n",
        "del person['age']\n",
        "print(person)\n"
      ],
      "metadata": {
        "colab": {
          "base_uri": "https://localhost:8080/"
        },
        "id": "X2pq-rk28V8u",
        "outputId": "1a9028df-c77c-42a5-e83f-4f1824fe0ec6"
      },
      "execution_count": 40,
      "outputs": [
        {
          "output_type": "stream",
          "name": "stdout",
          "text": [
            "{'name': 'Bob', 'city': 'New York'}\n"
          ]
        }
      ]
    },
    {
      "cell_type": "markdown",
      "source": [
        "25. Write a code to check if the key \"city\" exists in the dictionary {'name': 'Alice', 'city': 'Paris'}."
      ],
      "metadata": {
        "id": "gxPUJ9UJ6fbb"
      }
    },
    {
      "cell_type": "code",
      "source": [
        "person = {'name': 'Alice', 'city': 'Paris'}\n",
        "print('city' in person)\n"
      ],
      "metadata": {
        "colab": {
          "base_uri": "https://localhost:8080/"
        },
        "id": "Scog2EjL8WZW",
        "outputId": "6dfbfcc5-2ab5-41f8-8cef-22c023ec96d0"
      },
      "execution_count": 42,
      "outputs": [
        {
          "output_type": "stream",
          "name": "stdout",
          "text": [
            "True\n"
          ]
        }
      ]
    },
    {
      "cell_type": "markdown",
      "source": [
        "26. Write a code to create a list, a tuple, and a dictionary, and print them all"
      ],
      "metadata": {
        "id": "QRm4q2Kz6icN"
      }
    },
    {
      "cell_type": "code",
      "source": [
        "my_list = [1, 2, 3]\n",
        "my_tuple = ('a', 'b', 'c')\n",
        "my_dict = {'key1': 'value1', 'key2': 'value2'}\n",
        "print(my_list)\n",
        "print(my_tuple)\n",
        "print(my_dict)\n"
      ],
      "metadata": {
        "colab": {
          "base_uri": "https://localhost:8080/"
        },
        "id": "auaEh5hI8W1D",
        "outputId": "107e98e5-8aa5-43f3-932d-477ffe86a9eb"
      },
      "execution_count": 43,
      "outputs": [
        {
          "output_type": "stream",
          "name": "stdout",
          "text": [
            "[1, 2, 3]\n",
            "('a', 'b', 'c')\n",
            "{'key1': 'value1', 'key2': 'value2'}\n"
          ]
        }
      ]
    },
    {
      "cell_type": "markdown",
      "source": [
        "27. Write a code to create a list of 5 random numbers between 1 and 100, sort it in ascending order, and print the\n",
        "result.(replaced)"
      ],
      "metadata": {
        "id": "AVHZNZmC6mDo"
      }
    },
    {
      "cell_type": "code",
      "source": [
        "import random\n",
        "numbers = random.sample(range(1, 101), 5)\n",
        "numbers.sort()\n",
        "print(numbers)\n"
      ],
      "metadata": {
        "colab": {
          "base_uri": "https://localhost:8080/"
        },
        "id": "qIShcavA-I4w",
        "outputId": "e9b27961-3919-4b39-8e64-cb60b910287c"
      },
      "execution_count": 44,
      "outputs": [
        {
          "output_type": "stream",
          "name": "stdout",
          "text": [
            "[15, 23, 36, 57, 62]\n"
          ]
        }
      ]
    },
    {
      "cell_type": "markdown",
      "source": [
        "28. Write a code to create a list with strings and print the element at the third index"
      ],
      "metadata": {
        "id": "1CARNmGK61Qz"
      }
    },
    {
      "cell_type": "code",
      "source": [
        "words = ['apple', 'banana', 'cherry', 'date', 'fig']\n",
        "print(words[3])  # Output: date\n"
      ],
      "metadata": {
        "colab": {
          "base_uri": "https://localhost:8080/"
        },
        "id": "4O4ntkyX8X9_",
        "outputId": "ad588452-46d0-4b80-ddc4-bee2515055f1"
      },
      "execution_count": 45,
      "outputs": [
        {
          "output_type": "stream",
          "name": "stdout",
          "text": [
            "date\n"
          ]
        }
      ]
    },
    {
      "cell_type": "markdown",
      "source": [
        "29. Write a code to combine two dictionaries into one and print the result."
      ],
      "metadata": {
        "id": "4YDk6yh-6_ZJ"
      }
    },
    {
      "cell_type": "code",
      "source": [
        "dict1 = {'a': 1, 'b': 2}\n",
        "dict2 = {'c': 3, 'd': 4}\n",
        "combined = {**dict1, **dict2}\n",
        "print(combined)\n"
      ],
      "metadata": {
        "colab": {
          "base_uri": "https://localhost:8080/"
        },
        "id": "AwIu7T6r8Yl5",
        "outputId": "9565638e-e204-44bb-877b-47aa6fffb7de"
      },
      "execution_count": 46,
      "outputs": [
        {
          "output_type": "stream",
          "name": "stdout",
          "text": [
            "{'a': 1, 'b': 2, 'c': 3, 'd': 4}\n"
          ]
        }
      ]
    },
    {
      "cell_type": "markdown",
      "source": [
        "30. Write a code to convert a list of strings into a set\n"
      ],
      "metadata": {
        "id": "THjOAC1t7DZA"
      }
    },
    {
      "cell_type": "code",
      "source": [
        "string_list = ['apple', 'banana', 'cherry']\n",
        "string_set = set(string_list)\n",
        "print(string_set)\n"
      ],
      "metadata": {
        "colab": {
          "base_uri": "https://localhost:8080/"
        },
        "id": "nLeFUIk28ZYz",
        "outputId": "db5a64c5-1d5b-45e9-d40a-cc59e6da9c68"
      },
      "execution_count": 47,
      "outputs": [
        {
          "output_type": "stream",
          "name": "stdout",
          "text": [
            "{'apple', 'banana', 'cherry'}\n"
          ]
        }
      ]
    }
  ],
  "metadata": {
    "colab": {
      "name": "Welcome To Colab",
      "toc_visible": true,
      "provenance": []
    },
    "kernelspec": {
      "display_name": "Python 3",
      "name": "python3"
    }
  },
  "nbformat": 4,
  "nbformat_minor": 0
}